{
 "cells": [
  {
   "cell_type": "code",
   "execution_count": null,
   "id": "8c1f9df1",
   "metadata": {
    "vscode": {
     "languageId": "plaintext"
    }
   },
   "outputs": [],
   "source": [
    "from hs_api.converter.cri_converter import CRI_Converter\n",
    "\n",
    "input_layer = 1 #first pytorch layer that acts as synapses, indexing begins at 0 \n",
    "output_layer = 4 #last pytorch layer that acts as synapses\n",
    "snn_layers = 2 # number of snn layers \n",
    "input_shape = (1, 28, 28)\n",
    "backend = 'spikingjelly'\n",
    "v_threshold = qn.v_threshold\n",
    "    \n",
    "cn = CRI_Converter(num_steps = args.T,\n",
    "                   input_layer = input_layer, \n",
    "                   output_layer = output_layer, \n",
    "                   input_shape = input_shape,\n",
    "                   snn_layers = snn_layers,\n",
    "                   backend = backend,\n",
    "                   v_threshold = int(v_threshold))\n",
    "\n",
    "cn.layer_converter(net_quan)"
   ]
  },
  {
   "cell_type": "code",
   "execution_count": null,
   "id": "b0deaf63",
   "metadata": {
    "vscode": {
     "languageId": "plaintext"
    }
   },
   "outputs": [],
   "source": [
    "# initiate the model\n",
    "\n",
    "config = {}\n",
    "config['neuron_type'] = \"I&F\"\n",
    "config['global_neuron_params'] = {}\n",
    "config['global_neuron_params']['v_thr'] = int(qn.v_threshold)\n",
    "\n",
    "softwareNetwork = CRI_network(dict(cn.axon_dict),\n",
    "                              connections=dict(cn.neuron_dict),\n",
    "                              config=config,target='simpleSim', \n",
    "                              outputs = cn.output_neurons,\n",
    "                              coreID=1)"
   ]
  }
 ],
 "metadata": {
  "language_info": {
   "name": "python"
  }
 },
 "nbformat": 4,
 "nbformat_minor": 5
}
